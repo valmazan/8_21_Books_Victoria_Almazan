{
 "cells": [
  {
   "cell_type": "markdown",
   "id": "37ec3968",
   "metadata": {},
   "source": [
    "# Books (Core)"
   ]
  },
  {
   "cell_type": "markdown",
   "id": "8f622764",
   "metadata": {},
   "source": [
    "## Assignment:"
   ]
  },
  {
   "cell_type": "markdown",
   "id": "1fac56e1",
   "metadata": {},
   "source": [
    "Consider the following \"flat\" file that a start-up has just started using for its first customers: Client's Original File. They quickly realized that saving this information in .csv format will not meet their needs as they grow. First, consider how you would design a relational database to meet their needs. Be sure to consider conventions of normalization and what information should be separated."
   ]
  },
  {
   "cell_type": "markdown",
   "id": "e015c5a4",
   "metadata": {},
   "source": [
    "## Part 1: Design an ERD"
   ]
  },
  {
   "cell_type": "markdown",
   "id": "7d0de96c",
   "metadata": {},
   "source": [
    "Create an ERD (figure out how many tables to include and the relationships between them) to represent a database that tracks users and their favorite books. Here are some considerations as you design the database:\n",
    "\n",
    "- For the purposes of this assignment, you may assume that each book only has one author (or that we are only tracking the primary author), but that the same author may have written multiple books.\n",
    "- Each user should have a first name, last name, and email.\n",
    "-We will be saving a list of each user's favorite books.\n",
    "- Each book should have a title and an author. (The author's whole name can be one attribute)\n",
    "-Note that each user will have multiple favorite books, and a book could certainly be the favorite of many users.\n",
    "- Use the MySQL Workbench for designing the ERD.\n",
    "- Hint: When you link two tables with a many to many relationship, MySQL Workbench will automatically create a joiner table for you! It will also automatically make the keys primary keys, which you will want to uncheck.\n",
    "- Insert the image of your ERD into the first markdown cell of your Jupyter Notebook. Use the example markdown syntax for inserting an image."
   ]
  },
  {
   "cell_type": "code",
   "execution_count": null,
   "id": "b0fea7fe",
   "metadata": {},
   "outputs": [],
   "source": []
  },
  {
   "cell_type": "markdown",
   "id": "3b723b61",
   "metadata": {},
   "source": [
    "## Part 2: Create the database in Python"
   ]
  },
  {
   "cell_type": "code",
   "execution_count": null,
   "id": "af27dee4",
   "metadata": {},
   "outputs": [],
   "source": []
  },
  {
   "cell_type": "code",
   "execution_count": null,
   "id": "f539c78a",
   "metadata": {},
   "outputs": [],
   "source": []
  },
  {
   "cell_type": "code",
   "execution_count": null,
   "id": "f63a51d2",
   "metadata": {},
   "outputs": [],
   "source": []
  },
  {
   "cell_type": "code",
   "execution_count": null,
   "id": "887b538e",
   "metadata": {},
   "outputs": [],
   "source": []
  },
  {
   "cell_type": "code",
   "execution_count": null,
   "id": "b4433372",
   "metadata": {},
   "outputs": [],
   "source": []
  },
  {
   "cell_type": "code",
   "execution_count": null,
   "id": "5424dfd6",
   "metadata": {},
   "outputs": [],
   "source": []
  },
  {
   "cell_type": "code",
   "execution_count": null,
   "id": "0626dbb2",
   "metadata": {},
   "outputs": [],
   "source": []
  }
 ],
 "metadata": {
  "kernelspec": {
   "display_name": "Python (dojo-env)",
   "language": "python",
   "name": "dojo-env"
  },
  "language_info": {
   "codemirror_mode": {
    "name": "ipython",
    "version": 3
   },
   "file_extension": ".py",
   "mimetype": "text/x-python",
   "name": "python",
   "nbconvert_exporter": "python",
   "pygments_lexer": "ipython3",
   "version": "3.9.15"
  },
  "toc": {
   "base_numbering": 1,
   "nav_menu": {},
   "number_sections": false,
   "sideBar": true,
   "skip_h1_title": false,
   "title_cell": "Table of Contents",
   "title_sidebar": "Contents",
   "toc_cell": false,
   "toc_position": {},
   "toc_section_display": true,
   "toc_window_display": false
  }
 },
 "nbformat": 4,
 "nbformat_minor": 5
}
